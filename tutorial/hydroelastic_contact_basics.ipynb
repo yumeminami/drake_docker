{
 "cells": [
  {
   "cell_type": "code",
   "execution_count": 1,
   "metadata": {},
   "outputs": [
    {
     "name": "stderr",
     "output_type": "stream",
     "text": [
      "INFO:drake:Meshcat listening for connections at http://localhost:7000\n"
     ]
    }
   ],
   "source": [
    "from pydrake.geometry import StartMeshcat\n",
    "\n",
    "# Start the visualizer. The cell will output an HTTP link after the execution.\n",
    "# Click the link and a MeshCat tab should appear in your browser.\n",
    "meshcat = StartMeshcat()"
   ]
  },
  {
   "cell_type": "code",
   "execution_count": 4,
   "metadata": {},
   "outputs": [
    {
     "name": "stderr",
     "output_type": "stream",
     "text": [
      "INFO:drake:Click 'Stop Running' or press Esc to quit\n"
     ]
    }
   ],
   "source": [
    "from pydrake.visualization import ModelVisualizer\n",
    "\n",
    "visual_box_sdf = \"\"\"<?xml version=\"1.0\"?>\n",
    "<sdf version=\"1.7\">\n",
    "  <model name=\"CompliantBox\">\n",
    "    <pose>0 0 0 0 0 0</pose>\n",
    "    <link name=\"compliant_box\">\n",
    "      <visual name=\"visual\">\n",
    "        <geometry>\n",
    "          <box>\n",
    "            <size>0.10 0.20 0.40</size>\n",
    "          </box>\n",
    "        </geometry>\n",
    "        <material>\n",
    "          <diffuse>1.0 1.0 1.0 0.5</diffuse>\n",
    "        </material>\n",
    "      </visual>\n",
    "    </link>\n",
    "  </model>\n",
    "</sdf>\n",
    "\"\"\"\n",
    "\n",
    "# Visualize the SDFormat string you just defined.\n",
    "visualizer = ModelVisualizer(meshcat=meshcat, visualize_frames=True)\n",
    "visualizer.parser().AddModelsFromString(visual_box_sdf, \"sdf\")\n",
    "visualizer.Run(loop_once=False)"
   ]
  },
  {
   "cell_type": "code",
   "execution_count": 6,
   "metadata": {},
   "outputs": [],
   "source": [
    "from pydrake.visualization import ModelVisualizer\n",
    "\n",
    "collision_box_sdf = \"\"\"<?xml version=\"1.0\"?>\n",
    "<sdf version=\"1.7\">\n",
    "  <model name=\"CompliantBox\">\n",
    "    <pose>0 0 0 0 0 0</pose>\n",
    "    <link name=\"compliant_box\">\n",
    "      <collision name=\"collision\">\n",
    "        <geometry>\n",
    "          <box>\n",
    "            <size>0.10 0.20 0.40</size>\n",
    "          </box>\n",
    "        </geometry>\n",
    "        <drake:proximity_properties>\n",
    "          <drake:compliant_hydroelastic/>\n",
    "          <drake:hydroelastic_modulus>1e7</drake:hydroelastic_modulus>\n",
    "          <drake:mu_dynamic>0.5</drake:mu_dynamic>\n",
    "          <drake:hunt_crossley_dissipation>1.25</drake:hunt_crossley_dissipation>\n",
    "        </drake:proximity_properties>\n",
    "      </collision>\n",
    "      <visual name=\"visual\">\n",
    "        <geometry>\n",
    "          <box>\n",
    "            <size>0.10 0.20 0.40</size>\n",
    "          </box>\n",
    "        </geometry>\n",
    "        <material>\n",
    "          <diffuse>1.0 1.0 1.0 0.5</diffuse>\n",
    "        </material>\n",
    "      </visual>\n",
    "    </link>\n",
    "  </model>\n",
    "</sdf>\n",
    "\"\"\"\n",
    "\n",
    "# Visualize the SDFormat string you just defined.\n",
    "visualizer = ModelVisualizer(meshcat=meshcat, visualize_frames=True)\n",
    "visualizer.parser().AddModelsFromString(collision_box_sdf, \"sdf\")\n",
    "visualizer.Run(loop_once=True)"
   ]
  },
  {
   "cell_type": "code",
   "execution_count": 7,
   "metadata": {},
   "outputs": [
    {
     "name": "stdout",
     "output_type": "stream",
     "text": [
      "mass = 1.0\n",
      "\n",
      "p_PScm = center of mass = [0. 0. 0.]\n",
      "\n",
      "I_SP = rotational inertia = \n",
      "[[0.01666667 0.         0.        ]\n",
      " [0.         0.01416667 0.        ]\n",
      " [0.         0.         0.00416667]]\n",
      "\n"
     ]
    }
   ],
   "source": [
    "from pydrake.multibody.tree import SpatialInertia\n",
    "\n",
    "spatial_inertia = SpatialInertia.SolidBoxWithMass(\n",
    "          mass=1, lx=0.1, ly=0.2, lz=0.4)\n",
    "mass = spatial_inertia.get_mass()\n",
    "center_of_mass = spatial_inertia.get_com()\n",
    "matrix6 = spatial_inertia.CopyToFullMatrix6()\n",
    "\n",
    "print(f\"mass = {mass}\\n\")\n",
    "print(f\"p_PScm = center of mass = {center_of_mass}\\n\")\n",
    "print(f\"I_SP = rotational inertia = \\n{matrix6[:3, :3]}\\n\")"
   ]
  },
  {
   "cell_type": "code",
   "execution_count": 9,
   "metadata": {},
   "outputs": [
    {
     "name": "stdout",
     "output_type": "stream",
     "text": [
      "<?xml version=\"1.0\"?>\n",
      "    <sdf version=\"1.7\">\n",
      "      <model name=\"CompliantBox\">\n",
      "        <pose>0 0 0 0 0 0</pose>\n",
      "        <link name=\"compliant_box\">\n",
      "          <inertial>\n",
      "            <mass>1.0</mass>\n",
      "            <inertia>\n",
      "              <ixx>0.016666</ixx> <ixy>0.0</ixy> <ixz>0.0</ixz>\n",
      "              <iyy>0.014166</iyy> <iyz>0.0</iyz>\n",
      "              <izz>0.004166</izz>\n",
      "            </inertia>\n",
      "          </inertial>\n",
      "          <collision name=\"collision\">\n",
      "            <geometry>\n",
      "              <box>\n",
      "                <size>0.10 0.20 0.40</size>\n",
      "              </box>\n",
      "            </geometry>\n",
      "            <drake:proximity_properties>\n",
      "              <drake:compliant_hydroelastic/>\n",
      "              <drake:hydroelastic_modulus>1e7</drake:hydroelastic_modulus>\n",
      "              <drake:mu_dynamic>0.5</drake:mu_dynamic>\n",
      "              <drake:hunt_crossley_dissipation>1.25</drake:hunt_crossley_dissipation>\n",
      "            </drake:proximity_properties>\n",
      "          </collision>\n",
      "          <visual name=\"visual\">\n",
      "            <geometry>\n",
      "              <box>\n",
      "                <size>0.10 0.20 0.40</size>\n",
      "              </box>\n",
      "            </geometry>\n",
      "            <material>\n",
      "              <diffuse>1.0 1.0 1.0 0.5</diffuse>\n",
      "            </material>\n",
      "          </visual>\n",
      "        </link>\n",
      "      </model>\n",
      "    </sdf>\n",
      "    \n"
     ]
    }
   ],
   "source": [
    "from pydrake.visualization import ModelVisualizer\n",
    "\n",
    "# Define a compliant-hydroelastic box from\n",
    "# a given hydroelastic modulus.\n",
    "def compliant_box(hydroelastic_modulus='1e7'):\n",
    "    return f\"\"\"<?xml version=\"1.0\"?>\n",
    "    <sdf version=\"1.7\">\n",
    "      <model name=\"CompliantBox\">\n",
    "        <pose>0 0 0 0 0 0</pose>\n",
    "        <link name=\"compliant_box\">\n",
    "          <inertial>\n",
    "            <mass>1.0</mass>\n",
    "            <inertia>\n",
    "              <ixx>0.016666</ixx> <ixy>0.0</ixy> <ixz>0.0</ixz>\n",
    "              <iyy>0.014166</iyy> <iyz>0.0</iyz>\n",
    "              <izz>0.004166</izz>\n",
    "            </inertia>\n",
    "          </inertial>\n",
    "          <collision name=\"collision\">\n",
    "            <geometry>\n",
    "              <box>\n",
    "                <size>0.10 0.20 0.40</size>\n",
    "              </box>\n",
    "            </geometry>\n",
    "            <drake:proximity_properties>\n",
    "              <drake:compliant_hydroelastic/>\n",
    "              <drake:hydroelastic_modulus>{hydroelastic_modulus}</drake:hydroelastic_modulus>\n",
    "              <drake:mu_dynamic>0.5</drake:mu_dynamic>\n",
    "              <drake:hunt_crossley_dissipation>1.25</drake:hunt_crossley_dissipation>\n",
    "            </drake:proximity_properties>\n",
    "          </collision>\n",
    "          <visual name=\"visual\">\n",
    "            <geometry>\n",
    "              <box>\n",
    "                <size>0.10 0.20 0.40</size>\n",
    "              </box>\n",
    "            </geometry>\n",
    "            <material>\n",
    "              <diffuse>1.0 1.0 1.0 0.5</diffuse>\n",
    "            </material>\n",
    "          </visual>\n",
    "        </link>\n",
    "      </model>\n",
    "    </sdf>\n",
    "    \"\"\"\n",
    "\n",
    "compliant_box_sdf = compliant_box()\n",
    "print(compliant_box_sdf)\n",
    "\n",
    "# Visualize the SDFormat string you just defined.\n",
    "visualizer = ModelVisualizer(meshcat=meshcat, visualize_frames=True)\n",
    "visualizer.parser().AddModelsFromString(compliant_box_sdf, \"sdf\")\n",
    "visualizer.Run(loop_once=True)"
   ]
  },
  {
   "cell_type": "code",
   "execution_count": 10,
   "metadata": {},
   "outputs": [],
   "source": [
    "from pydrake.visualization import ModelVisualizer\n",
    "\n",
    "# Create a rigid-hydroelastic table top\n",
    "rigid_box_sdf = \"\"\"<?xml version=\"1.0\"?>\n",
    "<sdf version=\"1.7\">\n",
    "  <model name=\"RigidBox\">\n",
    "    <link name=\"rigid_box_link\">\n",
    "      <visual name=\"visual\">\n",
    "        <pose>0 0 0 0 0 0</pose>\n",
    "        <geometry>\n",
    "          <box>\n",
    "            <size>0.6 1.0 0.05</size>\n",
    "          </box>\n",
    "        </geometry>\n",
    "        <material>\n",
    "         <diffuse>0.9 0.8 0.7 0.5</diffuse>\n",
    "        </material>\n",
    "      </visual>\n",
    "      <collision name=\"collision\">\n",
    "        <pose>0 0 0 0 0 0</pose>\n",
    "        <geometry>\n",
    "          <box>\n",
    "            <size>0.6 1.0 0.05</size>\n",
    "          </box>\n",
    "        </geometry>\n",
    "        <drake:proximity_properties>\n",
    "          <drake:rigid_hydroelastic/>\n",
    "          <drake:mu_dynamic>0.5</drake:mu_dynamic>\n",
    "          <drake:hunt_crossley_dissipation>1.25</drake:hunt_crossley_dissipation>\n",
    "        </drake:proximity_properties>\n",
    "      </collision>\n",
    "    </link>\n",
    "    <frame name=\"top_surface\">\n",
    "      <pose relative_to=\"rigid_box_link\">0 0 0.025 0 0 0</pose>\n",
    "    </frame>\n",
    "  </model>\n",
    "</sdf>\n",
    "\"\"\"\n",
    "\n",
    "# Visualize the SDFormat string you just defined.\n",
    "visualizer = ModelVisualizer(meshcat=meshcat, visualize_frames=True)\n",
    "visualizer.parser().AddModelsFromString(rigid_box_sdf, \"sdf\")\n",
    "visualizer.Run(loop_once=True)"
   ]
  },
  {
   "cell_type": "code",
   "execution_count": 11,
   "metadata": {},
   "outputs": [],
   "source": [
    "from pydrake.math import RigidTransform\n",
    "from pydrake.multibody.parsing import Parser\n",
    "from pydrake.multibody.plant import AddMultibodyPlant, MultibodyPlantConfig\n",
    "from pydrake.systems.framework import DiagramBuilder\n",
    "\n",
    "def clear_meshcat():\n",
    "    # Clear MeshCat window from the previous blocks.\n",
    "    meshcat.Delete()\n",
    "    meshcat.DeleteAddedControls()\n",
    "\n",
    "def add_scene(time_step=1e-3):\n",
    "    builder = DiagramBuilder()\n",
    "    plant, scene_graph = AddMultibodyPlant(\n",
    "        MultibodyPlantConfig(\n",
    "            time_step=time_step,\n",
    "            discrete_contact_approximation=\"similar\"),\n",
    "        builder)\n",
    "    parser = Parser(plant)\n",
    "\n",
    "    # Load the table top and the box we created.\n",
    "    parser.AddModelsFromString(compliant_box_sdf, \"sdf\")\n",
    "    parser.AddModelsFromString(rigid_box_sdf, \"sdf\")\n",
    "\n",
    "    # Weld the rigid box to the world so that it's fixed during simulation.\n",
    "    # The top surface passes the world's origin.\n",
    "    plant.WeldFrames(plant.world_frame(), \n",
    "                     plant.GetFrameByName(\"top_surface\"))\n",
    "\n",
    "    # Finalize the plant after loading the scene.\n",
    "    plant.Finalize()\n",
    "\n",
    "    # Set how high the center of the compliant box is from the world's origin. \n",
    "    # W = the world's frame\n",
    "    # C = frame at the center of the compliant box\n",
    "    X_WC = RigidTransform(p=[0, 0, 1])\n",
    "    plant.SetDefaultFreeBodyPose(plant.GetBodyByName(\"compliant_box\"), X_WC)\n",
    "\n",
    "    return builder, plant"
   ]
  },
  {
   "cell_type": "code",
   "execution_count": 12,
   "metadata": {},
   "outputs": [
    {
     "data": {
      "text/plain": [
       "<pydrake.systems.analysis.SimulatorStatus at 0x7cced2539e70>"
      ]
     },
     "execution_count": 12,
     "metadata": {},
     "output_type": "execute_result"
    }
   ],
   "source": [
    "from pydrake.visualization import ApplyVisualizationConfig, VisualizationConfig\n",
    "\n",
    "def add_viz(builder, plant):\n",
    "    ApplyVisualizationConfig(\n",
    "        config=VisualizationConfig(\n",
    "                   publish_period = 1 / 256.0,\n",
    "                   publish_contacts = False),\n",
    "        builder=builder, meshcat=meshcat)\n",
    "    \n",
    "    return builder, plant\n",
    "\n",
    "\n",
    "from pydrake.systems.analysis import Simulator\n",
    "\n",
    "# Test creation of the diagram by simulating for 0 second.\n",
    "# For now, use only the DiagramBuilder from the first return value and\n",
    "# ignore the other return value. We will use it later.\n",
    "clear_meshcat()\n",
    "builder, plant = add_scene()\n",
    "add_viz(builder, plant)\n",
    "simulator = Simulator(builder.Build())\n",
    "simulator.AdvanceTo(0)"
   ]
  },
  {
   "cell_type": "code",
   "execution_count": 13,
   "metadata": {},
   "outputs": [],
   "source": [
    "from pydrake.systems.analysis import Simulator\n",
    "\n",
    "def run_simulation(sim_time, time_step=1e-3):\n",
    "    clear_meshcat()\n",
    "    \n",
    "    builder, plant = add_scene(time_step)\n",
    "    add_viz(builder, plant)\n",
    "    \n",
    "    diagram = builder.Build()\n",
    "    \n",
    "    simulator = Simulator(diagram)\n",
    "    simulator.set_target_realtime_rate(1.)\n",
    "    \n",
    "    meshcat.StartRecording(frames_per_second=256.0)\n",
    "    simulator.AdvanceTo(sim_time)\n",
    "    meshcat.StopRecording()\n",
    "\n",
    "\n",
    "run_simulation(sim_time=6)"
   ]
  },
  {
   "cell_type": "code",
   "execution_count": 14,
   "metadata": {},
   "outputs": [],
   "source": [
    "meshcat.PublishRecording()\n"
   ]
  },
  {
   "cell_type": "code",
   "execution_count": 15,
   "metadata": {},
   "outputs": [],
   "source": [
    "from pydrake.common.value import Value\n",
    "from pydrake.multibody.plant import ContactResults\n",
    "from pydrake.systems.framework import LeafSystem\n",
    "\n",
    "class ContactReporter(LeafSystem):\n",
    "    def __init__(self):\n",
    "        super().__init__()  # Don't forget to initialize the base class.\n",
    "        self.DeclareAbstractInputPort(\n",
    "            name=\"contact_results\",\n",
    "            model_value=Value(\n",
    "                # Input port will take ContactResults from MultibodyPlant\n",
    "                ContactResults()))\n",
    "        # Calling `ForcedPublish()` will trigger the callback.\n",
    "        self.DeclareForcedPublishEvent(self.Publish)\n",
    "        \n",
    "    def Publish(self, context):\n",
    "        print()\n",
    "        print(f\"ContactReporter::Publish() called at time={context.get_time()}\")\n",
    "        contact_results = self.get_input_port().Eval(context)\n",
    "        \n",
    "        num_hydroelastic_contacts = contact_results.num_hydroelastic_contacts()\n",
    "        print(f\"num_hydroelastic_contacts() = {num_hydroelastic_contacts}\")\n",
    "        \n",
    "        for c in range(num_hydroelastic_contacts):\n",
    "            print()\n",
    "            print(f\"hydroelastic_contact_info({c}): {c}-th hydroelastic contact patch\")\n",
    "            hydroelastic_contact_info = contact_results.hydroelastic_contact_info(c)\n",
    "            \n",
    "            spatial_force = hydroelastic_contact_info.F_Ac_W()\n",
    "            print(\"F_Ac_W(): spatial force (on body A, at centroid of contact surface, in World frame) = \")\n",
    "            print(f\"{spatial_force}\")\n",
    "                        \n",
    "            print(\"contact_surface()\")\n",
    "            contact_surface = hydroelastic_contact_info.contact_surface()\n",
    "            num_faces = contact_surface.num_faces()\n",
    "            total_area = contact_surface.total_area()\n",
    "            centroid = contact_surface.centroid()\n",
    "            print(f\"total_area(): area of contact surface in m^2 = {total_area}\")\n",
    "            print(f\"num_faces(): number of polygons or triangles = {num_faces}\")\n",
    "            print(f\"centroid(): centroid (in World frame) = {centroid}\")        \n",
    "        \n",
    "        print()\n",
    "\n",
    "def add_contact_report(builder, plant):   \n",
    "    contact_reporter = builder.AddSystem(ContactReporter())    \n",
    "    builder.Connect(plant.get_contact_results_output_port(),\n",
    "                    contact_reporter.get_input_port(0))\n",
    "        \n",
    "    return builder, plant"
   ]
  },
  {
   "cell_type": "code",
   "execution_count": 17,
   "metadata": {},
   "outputs": [
    {
     "name": "stdout",
     "output_type": "stream",
     "text": [
      "\n",
      "ContactReporter::Publish() called at time=0.0\n",
      "num_hydroelastic_contacts() = 0\n",
      "\n"
     ]
    }
   ],
   "source": [
    "from pydrake.systems.analysis import Simulator\n",
    "\n",
    "def run_simulation_with_contact_report(sim_time, time_step=1e-3):\n",
    "    clear_meshcat()\n",
    "    \n",
    "    builder, plant = add_scene(time_step)\n",
    "    add_viz(builder, plant)\n",
    "    add_contact_report(builder, plant)\n",
    "    \n",
    "    diagram = builder.Build()\n",
    "    \n",
    "    simulator = Simulator(diagram)\n",
    "    simulator.set_target_realtime_rate(1.)\n",
    "    \n",
    "    meshcat.StartRecording(frames_per_second=256.0)\n",
    "    simulator.AdvanceTo(sim_time)\n",
    "    meshcat.StopRecording()\n",
    "\n",
    "    # Forced publish after the simulation has finished.\n",
    "    diagram.ForcedPublish(simulator.get_context())\n",
    "    \n",
    "\n",
    "run_simulation_with_contact_report(sim_time=0)\n",
    "meshcat.PublishRecording()"
   ]
  },
  {
   "cell_type": "code",
   "execution_count": 18,
   "metadata": {},
   "outputs": [
    {
     "name": "stdout",
     "output_type": "stream",
     "text": [
      "\n",
      "ContactReporter::Publish() called at time=1.0\n",
      "num_hydroelastic_contacts() = 1\n",
      "\n",
      "hydroelastic_contact_info(0): 0-th hydroelastic contact patch\n",
      "F_Ac_W(): spatial force (on body A, at centroid of contact surface, in World frame) = \n",
      "SpatialForce(\n",
      "  tau=[-0.023077908574083414, 0.0006926412319316606, -0.0016709295731112935],\n",
      "  f=[-1.5216293053635639, 0.8929653674473098, 9.390931405878899],\n",
      ")\n",
      "contact_surface()\n",
      "total_area(): area of contact surface in m^2 = 0.0016437710094443403\n",
      "num_faces(): number of polygons or triangles = 10\n",
      "centroid(): centroid (in World frame) = [ 0.04514538 -0.02448114  0.        ]\n",
      "\n"
     ]
    }
   ],
   "source": [
    "run_simulation_with_contact_report(sim_time=1)\n",
    "meshcat.PublishRecording()"
   ]
  },
  {
   "cell_type": "code",
   "execution_count": 20,
   "metadata": {},
   "outputs": [
    {
     "name": "stdout",
     "output_type": "stream",
     "text": [
      "\n",
      "ContactReporter::Publish() called at time=6.0\n",
      "num_hydroelastic_contacts() = 1\n",
      "\n",
      "hydroelastic_contact_info(0): 0-th hydroelastic contact patch\n",
      "F_Ac_W(): spatial force (on body A, at centroid of contact surface, in World frame) = \n",
      "SpatialForce(\n",
      "  tau=[1.1886409432004807e-06, -9.076621367301585e-06, 6.756762889061183e-14],\n",
      "  f=[-3.3583690999835774e-05, -4.041996578714733e-06, 9.809999999745465],\n",
      ")\n",
      "contact_surface()\n",
      "total_area(): area of contact surface in m^2 = 0.020000000000000007\n",
      "num_faces(): number of polygons or triangles = 17\n",
      "centroid(): centroid (in World frame) = [-1.96264406e-06  1.19726543e-05  2.77555756e-17]\n",
      "\n"
     ]
    }
   ],
   "source": [
    "run_simulation_with_contact_report(sim_time=6)\n",
    "meshcat.PublishRecording()"
   ]
  },
  {
   "cell_type": "code",
   "execution_count": 21,
   "metadata": {},
   "outputs": [],
   "source": [
    "from pydrake.multibody.meshcat import ContactVisualizer, ContactVisualizerParams\n",
    "\n",
    "\n",
    "def add_contact_viz(builder, plant):\n",
    "    contact_viz = ContactVisualizer.AddToBuilder(\n",
    "        builder, plant, meshcat,\n",
    "        ContactVisualizerParams(\n",
    "            publish_period= 1.0 / 256.0,\n",
    "            newtons_per_meter= 2e1,\n",
    "            newton_meters_per_meter= 1e-1))\n",
    "\n",
    "    return builder, plant"
   ]
  },
  {
   "cell_type": "code",
   "execution_count": 26,
   "metadata": {},
   "outputs": [
    {
     "name": "stdout",
     "output_type": "stream",
     "text": [
      "\n",
      "ContactReporter::Publish() called at time=6.0\n",
      "num_hydroelastic_contacts() = 1\n",
      "\n",
      "hydroelastic_contact_info(0): 0-th hydroelastic contact patch\n",
      "F_Ac_W(): spatial force (on body A, at centroid of contact surface, in World frame) = \n",
      "SpatialForce(\n",
      "  tau=[1.1886409432004807e-06, -9.076621367301585e-06, 6.756762889061183e-14],\n",
      "  f=[-3.3583690999835774e-05, -4.041996578714733e-06, 9.809999999745465],\n",
      ")\n",
      "contact_surface()\n",
      "total_area(): area of contact surface in m^2 = 0.020000000000000007\n",
      "num_faces(): number of polygons or triangles = 17\n",
      "centroid(): centroid (in World frame) = [-1.96264406e-06  1.19726543e-05  2.77555756e-17]\n",
      "\n"
     ]
    }
   ],
   "source": [
    "from pydrake.systems.analysis import Simulator\n",
    "\n",
    "def run_simulation_with_contact_report_and_viz(sim_time, time_step=1e-3):\n",
    "    clear_meshcat()\n",
    "    \n",
    "    builder, plant = add_scene(time_step)\n",
    "    add_viz(builder, plant)\n",
    "    add_contact_report(builder, plant)\n",
    "    add_contact_viz(builder, plant)\n",
    "    \n",
    "    diagram = builder.Build()\n",
    "    \n",
    "    simulator = Simulator(diagram)\n",
    "    simulator.set_target_realtime_rate(1.0)\n",
    "    \n",
    "    meshcat.StartRecording(frames_per_second=256.0)\n",
    "    simulator.AdvanceTo(sim_time)\n",
    "    meshcat.StopRecording()\n",
    "\n",
    "    # Numerically report contact results at the end of simulation.\n",
    "    diagram.ForcedPublish(simulator.get_context())\n",
    "\n",
    "    \n",
    "run_simulation_with_contact_report_and_viz(sim_time=6)"
   ]
  },
  {
   "cell_type": "code",
   "execution_count": 24,
   "metadata": {},
   "outputs": [],
   "source": [
    "meshcat.Delete(\"/drake/contact_forces/hydroelastic/compliant_box+rigid_box_link/contact_surface\")\n",
    "\n",
    "meshcat.PublishRecording()"
   ]
  },
  {
   "cell_type": "code",
   "execution_count": 25,
   "metadata": {},
   "outputs": [
    {
     "name": "stdout",
     "output_type": "stream",
     "text": [
      "http://localhost:7000/download\n"
     ]
    }
   ],
   "source": [
    "print(f\"{meshcat.web_url()}/download\")\n"
   ]
  },
  {
   "cell_type": "code",
   "execution_count": null,
   "metadata": {},
   "outputs": [],
   "source": []
  }
 ],
 "metadata": {
  "kernelspec": {
   "display_name": "venv",
   "language": "python",
   "name": "python3"
  },
  "language_info": {
   "codemirror_mode": {
    "name": "ipython",
    "version": 3
   },
   "file_extension": ".py",
   "mimetype": "text/x-python",
   "name": "python",
   "nbconvert_exporter": "python",
   "pygments_lexer": "ipython3",
   "version": "3.10.12"
  }
 },
 "nbformat": 4,
 "nbformat_minor": 2
}
