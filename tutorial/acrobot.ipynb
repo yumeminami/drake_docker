{
 "cells": [
  {
   "cell_type": "code",
   "execution_count": 1,
   "metadata": {},
   "outputs": [],
   "source": [
    "import numpy as np\n",
    "from pydrake.all import (\n",
    "    ControllabilityMatrix,\n",
    "    DiagramBuilder,\n",
    "    Linearize,\n",
    "    LinearQuadraticRegulator,\n",
    "    MeshcatVisualizer,\n",
    "    Saturation,\n",
    "    SceneGraph,\n",
    "    Simulator,\n",
    "    StartMeshcat,\n",
    "    WrapToSystem,\n",
    ")\n",
    "from pydrake.examples import AcrobotGeometry, AcrobotInput, AcrobotPlant, AcrobotState\n",
    "\n",
    "from underactuated import running_as_notebook\n",
    "from underactuated.meshcat_utils import MeshcatSliders"
   ]
  },
  {
   "cell_type": "code",
   "execution_count": 2,
   "metadata": {},
   "outputs": [
    {
     "name": "stderr",
     "output_type": "stream",
     "text": [
      "INFO:drake:Meshcat listening for connections at http://localhost:7000\n"
     ]
    }
   ],
   "source": [
    "meshcat = StartMeshcat()\n"
   ]
  },
  {
   "cell_type": "code",
   "execution_count": 3,
   "metadata": {},
   "outputs": [
    {
     "name": "stdout",
     "output_type": "stream",
     "text": [
      "Use the slider in the MeshCat controls to apply elbow torque.\n",
      "Press 'Stop Simulation' in MeshCat to continue.\n"
     ]
    }
   ],
   "source": [
    "def acrobot_demo():\n",
    "    builder = DiagramBuilder()\n",
    "    acrobot = builder.AddSystem(AcrobotPlant())\n",
    "\n",
    "    # Setup visualization\n",
    "    scene_graph = builder.AddSystem(SceneGraph())\n",
    "    AcrobotGeometry.AddToBuilder(builder, acrobot.get_output_port(0), scene_graph)\n",
    "    meshcat.Delete()\n",
    "    meshcat.Set2dRenderMode(xmin=-4, xmax=4, ymin=-4, ymax=4)\n",
    "    MeshcatVisualizer.AddToBuilder(builder, scene_graph, meshcat)\n",
    "\n",
    "    # Setup slider input\n",
    "    meshcat.AddSlider(\n",
    "        \"u\",\n",
    "        min=-5,\n",
    "        max=5,\n",
    "        step=0.1,\n",
    "        value=0.0,\n",
    "        decrement_keycode=\"ArrowLeft\",\n",
    "        increment_keycode=\"ArrowRight\",\n",
    "    )\n",
    "    torque_system = builder.AddSystem(MeshcatSliders(meshcat, [\"u\"]))\n",
    "    builder.Connect(torque_system.get_output_port(), acrobot.get_input_port())\n",
    "\n",
    "    diagram = builder.Build()\n",
    "\n",
    "    # Set up a simulator to run this diagram\n",
    "    simulator = Simulator(diagram)\n",
    "    context = simulator.get_mutable_context()\n",
    "\n",
    "    # Set the initial conditions (theta1, theta2, theta1dot, theta2dot)\n",
    "    context.SetContinuousState([1, 0, 0, 0])\n",
    "\n",
    "    if running_as_notebook:  # Then we're not just running as a test on CI.\n",
    "        simulator.set_target_realtime_rate(1.0)\n",
    "\n",
    "        print(\"Use the slider in the MeshCat controls to apply elbow torque.\")\n",
    "        print(\"Press 'Stop Simulation' in MeshCat to continue.\")\n",
    "        meshcat.AddButton(\"Stop Simulation\")\n",
    "        while meshcat.GetButtonClicks(\"Stop Simulation\") < 1:\n",
    "            simulator.AdvanceTo(simulator.get_context().get_time() + 1.0)\n",
    "    else:\n",
    "        simulator.AdvanceTo(0.1)\n",
    "\n",
    "    meshcat.DeleteAddedControls()\n",
    "\n",
    "\n",
    "acrobot_demo()"
   ]
  },
  {
   "cell_type": "code",
   "execution_count": 4,
   "metadata": {},
   "outputs": [
    {
     "name": "stdout",
     "output_type": "stream",
     "text": [
      "The singular values of the controllability matrix are: [5.11718692e+02 1.23084288e+02 8.06819874e-02 7.15326677e-02]\n"
     ]
    }
   ],
   "source": [
    "def UprightState():\n",
    "    state = AcrobotState()\n",
    "    state.set_theta1(np.pi)\n",
    "    state.set_theta2(0.0)\n",
    "    state.set_theta1dot(0.0)\n",
    "    state.set_theta2dot(0.0)\n",
    "    return state\n",
    "\n",
    "\n",
    "def acrobot_controllability():\n",
    "    acrobot = AcrobotPlant()\n",
    "    context = acrobot.CreateDefaultContext()\n",
    "\n",
    "    input = AcrobotInput()\n",
    "    input.set_tau(0.0)\n",
    "    acrobot.get_input_port(0).FixValue(context, input)\n",
    "\n",
    "    context.get_mutable_continuous_state_vector().SetFromVector(\n",
    "        UprightState().CopyToVector()\n",
    "    )\n",
    "\n",
    "    linearized_acrobot = Linearize(acrobot, context)\n",
    "    print(\n",
    "        f\"The singular values of the controllability matrix are: {np.linalg.svd(ControllabilityMatrix(linearized_acrobot), compute_uv=False)}\"\n",
    "    )\n",
    "\n",
    "\n",
    "acrobot_controllability()"
   ]
  },
  {
   "cell_type": "code",
   "execution_count": 5,
   "metadata": {},
   "outputs": [
    {
     "ename": "KeyboardInterrupt",
     "evalue": "",
     "output_type": "error",
     "traceback": [
      "\u001b[0;31m---------------------------------------------------------------------------\u001b[0m",
      "\u001b[0;31mKeyboardInterrupt\u001b[0m                         Traceback (most recent call last)",
      "Cell \u001b[0;32mIn[5], line 66\u001b[0m\n\u001b[1;32m     62\u001b[0m         simulator\u001b[38;5;241m.\u001b[39mInitialize()\n\u001b[1;32m     63\u001b[0m         simulator\u001b[38;5;241m.\u001b[39mAdvanceTo(duration)\n\u001b[0;32m---> 66\u001b[0m \u001b[43macrobot_balancing_example\u001b[49m\u001b[43m(\u001b[49m\u001b[43m)\u001b[49m\n",
      "Cell \u001b[0;32mIn[5], line 63\u001b[0m, in \u001b[0;36macrobot_balancing_example\u001b[0;34m()\u001b[0m\n\u001b[1;32m     55\u001b[0m context\u001b[38;5;241m.\u001b[39mSetContinuousState(\n\u001b[1;32m     56\u001b[0m     UprightState()\u001b[38;5;241m.\u001b[39mCopyToVector()\n\u001b[1;32m     57\u001b[0m     \u001b[38;5;241m+\u001b[39m \u001b[38;5;241m0.05\u001b[39m\n\u001b[0;32m   (...)\u001b[0m\n\u001b[1;32m     60\u001b[0m     )\n\u001b[1;32m     61\u001b[0m )\n\u001b[1;32m     62\u001b[0m simulator\u001b[38;5;241m.\u001b[39mInitialize()\n\u001b[0;32m---> 63\u001b[0m \u001b[43msimulator\u001b[49m\u001b[38;5;241;43m.\u001b[39;49m\u001b[43mAdvanceTo\u001b[49m\u001b[43m(\u001b[49m\u001b[43mduration\u001b[49m\u001b[43m)\u001b[49m\n",
      "\u001b[0;31mKeyboardInterrupt\u001b[0m: "
     ]
    }
   ],
   "source": [
    "def acrobot_balancing_example():\n",
    "    def BalancingLQR():\n",
    "        # Design an LQR controller for stabilizing the Acrobot around the upright.\n",
    "        # Returns a (static) AffineSystem that implements the controller (in\n",
    "        # the original AcrobotState coordinates).\n",
    "\n",
    "        acrobot = AcrobotPlant()\n",
    "        context = acrobot.CreateDefaultContext()\n",
    "\n",
    "        input = AcrobotInput()\n",
    "        input.set_tau(0.0)\n",
    "        acrobot.get_input_port(0).FixValue(context, input)\n",
    "\n",
    "        context.get_mutable_continuous_state_vector().SetFromVector(\n",
    "            UprightState().CopyToVector()\n",
    "        )\n",
    "\n",
    "        Q = np.diag((10.0, 10.0, 1.0, 1.0))\n",
    "        R = [1]\n",
    "\n",
    "        return LinearQuadraticRegulator(acrobot, context, Q, R)\n",
    "\n",
    "    builder = DiagramBuilder()\n",
    "    acrobot = builder.AddSystem(AcrobotPlant())\n",
    "\n",
    "    saturation = builder.AddSystem(Saturation(min_value=[-10], max_value=[10]))\n",
    "    builder.Connect(saturation.get_output_port(0), acrobot.get_input_port(0))\n",
    "    wrapangles = WrapToSystem(4)\n",
    "    wrapangles.set_interval(0, 0, 2.0 * np.pi)\n",
    "    wrapangles.set_interval(1, -np.pi, np.pi)\n",
    "    wrapto = builder.AddSystem(wrapangles)\n",
    "    builder.Connect(acrobot.get_output_port(0), wrapto.get_input_port(0))\n",
    "    controller = builder.AddSystem(BalancingLQR())\n",
    "    builder.Connect(wrapto.get_output_port(0), controller.get_input_port(0))\n",
    "    builder.Connect(controller.get_output_port(0), saturation.get_input_port(0))\n",
    "\n",
    "    # Setup visualization\n",
    "    scene_graph = builder.AddSystem(SceneGraph())\n",
    "    AcrobotGeometry.AddToBuilder(builder, acrobot.get_output_port(0), scene_graph)\n",
    "    meshcat.Delete()\n",
    "    meshcat.Set2dRenderMode(xmin=-4, xmax=4, ymin=-4, ymax=4)\n",
    "    MeshcatVisualizer.AddToBuilder(builder, scene_graph, meshcat)\n",
    "\n",
    "    diagram = builder.Build()\n",
    "\n",
    "    # Set up a simulator to run this diagram\n",
    "    simulator = Simulator(diagram)\n",
    "    context = simulator.get_mutable_context()\n",
    "\n",
    "    # Simulate\n",
    "    simulator.set_target_realtime_rate(1.0 if running_as_notebook else 0.0)\n",
    "    duration = 4.0 if running_as_notebook else 0.1\n",
    "    for i in range(5):\n",
    "        context.SetTime(0.0)\n",
    "        context.SetContinuousState(\n",
    "            UprightState().CopyToVector()\n",
    "            + 0.05\n",
    "            * np.random.randn(\n",
    "                4,\n",
    "            )\n",
    "        )\n",
    "        simulator.Initialize()\n",
    "        simulator.AdvanceTo(duration)\n",
    "\n",
    "\n",
    "acrobot_balancing_example()"
   ]
  },
  {
   "cell_type": "code",
   "execution_count": null,
   "metadata": {},
   "outputs": [],
   "source": []
  }
 ],
 "metadata": {
  "kernelspec": {
   "display_name": "venv",
   "language": "python",
   "name": "python3"
  },
  "language_info": {
   "codemirror_mode": {
    "name": "ipython",
    "version": 3
   },
   "file_extension": ".py",
   "mimetype": "text/x-python",
   "name": "python",
   "nbconvert_exporter": "python",
   "pygments_lexer": "ipython3",
   "version": "3.10.12"
  }
 },
 "nbformat": 4,
 "nbformat_minor": 2
}
